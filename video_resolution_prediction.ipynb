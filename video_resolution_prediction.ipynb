{
 "cells": [
  {
   "cell_type": "markdown",
   "metadata": {},
   "source": [
    " "
   ]
  },
  {
   "cell_type": "markdown",
   "metadata": {},
   "source": [
    "## Video Resolution Prediction\n"
   ]
  },
  {
   "cell_type": "code",
   "execution_count": 2,
   "metadata": {},
   "outputs": [],
   "source": [
    "import pandas as pd\n",
    "import numpy as np\n",
    "import matplotlib.pyplot as plt\n",
    "import seaborn as sns\n",
    "\n",
    "from datetime import datetime\n",
    "\n",
    "import math\n",
    "import time\n",
    "import itertools\n",
    "\n",
    "from sklearn.metrics import confusion_matrix, classification_report\n",
    "from sklearn.model_selection import GridSearchCV\n",
    "from sklearn.metrics import accuracy_score, precision_score, recall_score, jaccard_similarity_score\n",
    "\n",
    "import eli5\n",
    "from eli5.sklearn import PermutationImportance\n",
    "from eli5.permutation_importance import get_score_importances\n",
    "\n",
    "from sklearn.metrics import roc_curve, roc_auc_score\n",
    "from sklearn.preprocessing import StandardScaler\n",
    "\n",
    "import xgboost as xgb\n",
    "\n",
    "import warnings\n",
    "warnings.filterwarnings('ignore')\n",
    "\n",
    "%matplotlib inline\n",
    "plt.style.use('ggplot')"
   ]
  },
  {
   "cell_type": "markdown",
   "metadata": {},
   "source": [
    "### Reading the data"
   ]
  },
  {
   "cell_type": "code",
   "execution_count": 3,
   "metadata": {},
   "outputs": [],
   "source": [
    "df_video_raw = pd.read_csv('video_by_resolution_dataset.zip', index_col=0, usecols=[0,1,2,3,4,5,6,7,8,10])"
   ]
  },
  {
   "cell_type": "code",
   "execution_count": 4,
   "metadata": {},
   "outputs": [
    {
     "data": {
      "text/plain": [
       "(38984271, 9)"
      ]
     },
     "execution_count": 4,
     "metadata": {},
     "output_type": "execute_result"
    }
   ],
   "source": [
    "df = df_video_raw.copy()\n",
    "#df.head()\n",
    "df.shape"
   ]
  },
  {
   "cell_type": "markdown",
   "metadata": {},
   "source": [
    "---"
   ]
  },
  {
   "cell_type": "markdown",
   "metadata": {},
   "source": [
    "###  Extract only video connection"
   ]
  },
  {
   "cell_type": "code",
   "execution_count": 4,
   "metadata": {},
   "outputs": [],
   "source": [
    "def extract_video_connections(data,sni):\n",
    "    data_conn_ids = data.dropna(subset=['sni'])\n",
    "    # Get connection ids of videos\n",
    "    video_conn_ids = data_conn_ids[data_conn_ids['sni'].str.contains(sni)]['conn_id']\n",
    "    # filter only connection ids of videos\n",
    "    video_data = data[data['conn_id'].isin(video_conn_ids)].copy()\n",
    "    # Remove packets of videos from previous videos\n",
    "    video_data = video_data.groupby('video_id', as_index=False)\\\n",
    "    .apply(lambda x: x[x['conn_id'].isin(x.loc[x['sni'].notna(),'conn_id'])])\n",
    "    return video_data"
   ]
  },
  {
   "cell_type": "code",
   "execution_count": 5,
   "metadata": {},
   "outputs": [],
   "source": [
    "video_df = extract_video_connections(data=df, sni = '--sn')"
   ]
  },
  {
   "cell_type": "markdown",
   "metadata": {},
   "source": [
    "## Data Exploration"
   ]
  },
  {
   "cell_type": "code",
   "execution_count": 6,
   "metadata": {},
   "outputs": [],
   "source": [
    "def explore(df):\n",
    "    print(\"Data Time Period\")\n",
    "    print ( datetime.fromtimestamp(df['time_epoch'].min()).strftime(\"%Y-%m-%d %I:%M:%S\") )\n",
    "    print ( datetime.fromtimestamp(df['time_epoch'].max()).strftime(\"%Y-%m-%d %I:%M:%S\") )\n",
    "\n",
    "    print(\"\\nNumber of samples/packets:\")\n",
    "    print(df.shape[0])\n",
    "\n",
    "    print(\"\\nNumber of videos/url's:\")\n",
    "    print(df.url_id.nunique())\n",
    "\n",
    "    print(\"\\nNumber of video_ids/url-resolution:\")\n",
    "    print(df.video_id.nunique())\n",
    "\n",
    "    print(\"\\nNumber of NaNs:\")\n",
    "    print(df.isnull().sum())\n",
    "    \n",
    "    print(\"\\nData Types\")\n",
    "    print(df.dtypes)\n",
    "\n",
    "    #print(\"\\nDescriptive Statistics:\")\n",
    "    #print(df.describe(include='all'))\n"
   ]
  },
  {
   "cell_type": "code",
   "execution_count": 7,
   "metadata": {},
   "outputs": [
    {
     "name": "stdout",
     "output_type": "stream",
     "text": [
      "Data Time Period\n",
      "2018-08-15 11:01:23\n",
      "2018-08-19 04:25:43\n",
      "\n",
      "Number of samples/packets:\n",
      "34596250\n",
      "\n",
      "Number of videos/url's:\n",
      "235\n",
      "\n",
      "Number of video_ids/url-resolution:\n",
      "940\n",
      "\n",
      "Number of NaNs:\n",
      "time_epoch             0\n",
      "conn_id                0\n",
      "is_inbound             0\n",
      "payload_size           0\n",
      "url_id                 0\n",
      "video_id               0\n",
      "ip_proto               0\n",
      "sni             34590945\n",
      "resolution             0\n",
      "dtype: int64\n",
      "\n",
      "Data Types\n",
      "time_epoch      float64\n",
      "conn_id          object\n",
      "is_inbound         bool\n",
      "payload_size    float64\n",
      "url_id           object\n",
      "video_id          int64\n",
      "ip_proto        float64\n",
      "sni              object\n",
      "resolution        int64\n",
      "dtype: object\n"
     ]
    }
   ],
   "source": [
    "explore(video_df)"
   ]
  },
  {
   "cell_type": "code",
   "execution_count": 8,
   "metadata": {},
   "outputs": [],
   "source": [
    "#video_df012 = video_df.loc[[0,1,2]]\n",
    "#video_df012.shape"
   ]
  },
  {
   "cell_type": "markdown",
   "metadata": {},
   "source": [
    "---"
   ]
  },
  {
   "cell_type": "markdown",
   "metadata": {},
   "source": [
    "### Adding new feature columns"
   ]
  },
  {
   "cell_type": "code",
   "execution_count": 9,
   "metadata": {},
   "outputs": [],
   "source": [
    "def bin_hour_to_categories(df):\n",
    "    df.loc[(df['hour'] >= 6) & (df['hour'] < 10), 'day_part'] = 'morning'\n",
    "    df.loc[(df['hour'] >= 10) & (df['hour'] < 14), 'day_part'] = 'noon'\n",
    "    df.loc[(df['hour'] >= 14) & (df['hour'] < 18), 'day_part'] = 'after_noon'\n",
    "    df.loc[(df['hour'] >= 18) & (df['hour'] < 22), 'day_part'] = 'evening'\n",
    "    df.loc[(df['hour'] >= 22) & (df['hour'] <= 23), 'day_part'] = 'night'\n",
    "    df.loc[(df['hour'] >= 0) & (df['hour'] < 2), 'day_part'] = 'night'\n",
    "    df.loc[(df['hour'] >= 2) & (df['hour'] < 6), 'day_part'] = 'dawn'\n",
    "    return df"
   ]
  },
  {
   "cell_type": "code",
   "execution_count": 10,
   "metadata": {},
   "outputs": [],
   "source": [
    "def add_cols(df):\n",
    "    print ( \"\\nStart new_columns Function\")  \n",
    "    \n",
    "    # DateTime features\n",
    "    df['t_utc']  = pd.to_datetime(df['time_epoch'], unit='s')\n",
    "    df['hour'] = df['t_utc'].dt.hour\n",
    "    df['dow'] = df['t_utc'].dt.weekday_name\n",
    "    weekend = ['Sunday', 'Friday', 'Saturday']\n",
    "    df['is_weekend'] = np.where(df['dow'].isin(weekend),1,0)\n",
    "    bin_hour_to_categories(df) #'day_part' feature\n",
    "                                \n",
    "    # IpProtocol to category\n",
    "    df['ip_protocol'] = df['ip_proto'].map({\n",
    "        6:'TCP',\n",
    "        17:'UDP' })\n",
    "    \n",
    "    #Inbound/Outbound payloads\n",
    "    df['inbound_payload']= np.where(df['is_inbound']== True ,df['payload_size'],0)\n",
    "    df['outbound_payload']= np.where(df['is_inbound']== False ,df['payload_size'],0)\n",
    "    \n",
    "    print ( \"\\nEnd new_columns Function\")\n",
    "    \n",
    "    return df"
   ]
  },
  {
   "cell_type": "markdown",
   "metadata": {},
   "source": [
    "### Grouping the data for the model\n",
    "#### Representing each video_id in one raw"
   ]
  },
  {
   "cell_type": "code",
   "execution_count": 11,
   "metadata": {},
   "outputs": [],
   "source": [
    "def data_for_classifier(df):\n",
    "    print ( \"\\nStart grouping Function\")\n",
    "\n",
    "    group_df = df.groupby(['video_id']) \\\n",
    "                .apply(lambda x: {'payload_kb': (x[x['sni'].isnull()]['payload_size'].sum()/1024).astype(int), \\\n",
    "                'inbound_payload_kb': (x['inbound_payload'].sum()/1024).astype(int), \\\n",
    "                'outbound_payload_kb': (x[x['sni'].isnull()]['outbound_payload'].sum()/1024).astype(int), \\\n",
    "                                   \n",
    "                'count_packets': x.shape[0], \\\n",
    "                'count_Tcp_packets': x[x['ip_proto']==6].shape[0], \\\n",
    "                'count_Udp_packets': x[x['ip_proto']==17].shape[0], \\\n",
    "                                  \n",
    "                'Prc_inbound_payload_kb': \\\n",
    "                ((x['inbound_payload'].sum()/1024)/(x['payload_size'].sum()/1024)).round(3), \\\n",
    "                'Prc_outbound_payload_kb': \\\n",
    "                ((x['outbound_payload'].sum()/1024)/(x['payload_size'].sum()/1024)).round(3), \\\n",
    "\n",
    "                'Prc_Tcp_packets': \\\n",
    "                round((x[x['ip_proto']==6].shape[0])/(x.shape[0]),3), \\\n",
    "\n",
    "                'Prc_Udp_packets': \\\n",
    "                round((x[x['ip_proto']==17].shape[0])/(x.shape[0]),3), \\\n",
    "                                  \n",
    "                'hour': \\\n",
    "                pd.Series(x['hour'].value_counts()).index[0].astype(str),\n",
    "                'dow': \\\n",
    "                pd.Series(x['dow'].value_counts()).index[0],\n",
    "                'is_weekend': \\\n",
    "                pd.Series(x['is_weekend'].value_counts()).index[0],\n",
    "                'day_part': \\\n",
    "                pd.Series(x['day_part'].value_counts()).index[0],\n",
    "                'resolution': \\\n",
    "                pd.Series(x['resolution'].value_counts()).index[0].astype(str),\n",
    "            \n",
    "                }) \\\n",
    "                .apply(pd.Series).sort_values(by='payload_kb')\n",
    "    \n",
    "    print ( \"\\nEnd grouping Function\")\n",
    "    \n",
    "    return group_df"
   ]
  },
  {
   "cell_type": "markdown",
   "metadata": {},
   "source": [
    "### One-hot encoding for categorical features"
   ]
  },
  {
   "cell_type": "code",
   "execution_count": 12,
   "metadata": {},
   "outputs": [],
   "source": [
    "def one_hot_encoding(df):\n",
    "    \n",
    "    #print ( \"\\nStart ohe Function\")\n",
    "    \n",
    "    #ohe_cols = ['hour', 'dow', 'day_part']\n",
    "    ohe_cols = ['day_part','dow']\n",
    "\n",
    "    for col in ohe_cols:\n",
    "        df = pd.concat([df, pd.get_dummies(df[[col]], prefix=col)], axis=1)\n",
    "        \n",
    "    df.drop(ohe_cols,axis=1,inplace=True)\n",
    "        \n",
    "    print ( \"\\nEnd ohe Function\")\n",
    "    return df"
   ]
  },
  {
   "cell_type": "markdown",
   "metadata": {},
   "source": [
    "### Preparing the final data set for the model"
   ]
  },
  {
   "cell_type": "code",
   "execution_count": 13,
   "metadata": {},
   "outputs": [],
   "source": [
    "def preprocess(df):\n",
    "    df = add_cols(df)\n",
    "    df = data_for_classifier(df)\n",
    "    df = one_hot_encoding(df)\n",
    "    \n",
    "    # drop all Unnecessary columns\n",
    "    new_df = df.copy()\n",
    "    drop_cols = ['payload_kb', 'inbound_payload_kb','outbound_payload_kb', 'count_packets', \\\n",
    "             'count_Tcp_packets','count_Udp_packets','hour','Prc_inbound_payload_kb','Prc_Tcp_packets']\n",
    "    \n",
    "    new_df.drop(drop_cols,axis=1,inplace=True)\n",
    "    \n",
    "    print ( \"\\nEnd preprocessing\")\n",
    "    return new_df"
   ]
  },
  {
   "cell_type": "code",
   "execution_count": 14,
   "metadata": {
    "scrolled": true
   },
   "outputs": [
    {
     "name": "stdout",
     "output_type": "stream",
     "text": [
      "\n",
      "Start new_columns Function\n",
      "\n",
      "End new_columns Function\n",
      "\n",
      "Start grouping Function\n",
      "\n",
      "End grouping Function\n",
      "\n",
      "End ohe Function\n",
      "\n",
      "End preprocessing\n",
      "model_df.shape =  (940, 15)\n"
     ]
    }
   ],
   "source": [
    "model_df = preprocess(video_df)\n",
    "print ( 'model_df.shape = ', model_df.shape )"
   ]
  },
  {
   "cell_type": "code",
   "execution_count": 15,
   "metadata": {},
   "outputs": [
    {
     "data": {
      "text/html": [
       "<div>\n",
       "<style scoped>\n",
       "    .dataframe tbody tr th:only-of-type {\n",
       "        vertical-align: middle;\n",
       "    }\n",
       "\n",
       "    .dataframe tbody tr th {\n",
       "        vertical-align: top;\n",
       "    }\n",
       "\n",
       "    .dataframe thead th {\n",
       "        text-align: right;\n",
       "    }\n",
       "</style>\n",
       "<table border=\"1\" class=\"dataframe\">\n",
       "  <thead>\n",
       "    <tr style=\"text-align: right;\">\n",
       "      <th></th>\n",
       "      <th>Prc_outbound_payload_kb</th>\n",
       "      <th>Prc_Udp_packets</th>\n",
       "      <th>is_weekend</th>\n",
       "      <th>resolution</th>\n",
       "      <th>day_part_after_noon</th>\n",
       "      <th>day_part_dawn</th>\n",
       "      <th>day_part_evening</th>\n",
       "      <th>day_part_morning</th>\n",
       "      <th>day_part_night</th>\n",
       "      <th>day_part_noon</th>\n",
       "      <th>dow_Friday</th>\n",
       "      <th>dow_Saturday</th>\n",
       "      <th>dow_Sunday</th>\n",
       "      <th>dow_Thursday</th>\n",
       "      <th>dow_Wednesday</th>\n",
       "    </tr>\n",
       "    <tr>\n",
       "      <th>video_id</th>\n",
       "      <th></th>\n",
       "      <th></th>\n",
       "      <th></th>\n",
       "      <th></th>\n",
       "      <th></th>\n",
       "      <th></th>\n",
       "      <th></th>\n",
       "      <th></th>\n",
       "      <th></th>\n",
       "      <th></th>\n",
       "      <th></th>\n",
       "      <th></th>\n",
       "      <th></th>\n",
       "      <th></th>\n",
       "      <th></th>\n",
       "    </tr>\n",
       "  </thead>\n",
       "  <tbody>\n",
       "    <tr>\n",
       "      <th>1534358078742</th>\n",
       "      <td>0.022</td>\n",
       "      <td>0.0</td>\n",
       "      <td>0</td>\n",
       "      <td>3</td>\n",
       "      <td>0</td>\n",
       "      <td>0</td>\n",
       "      <td>1</td>\n",
       "      <td>0</td>\n",
       "      <td>0</td>\n",
       "      <td>0</td>\n",
       "      <td>0</td>\n",
       "      <td>0</td>\n",
       "      <td>0</td>\n",
       "      <td>0</td>\n",
       "      <td>1</td>\n",
       "    </tr>\n",
       "    <tr>\n",
       "      <th>1534610096872</th>\n",
       "      <td>0.005</td>\n",
       "      <td>0.0</td>\n",
       "      <td>1</td>\n",
       "      <td>0</td>\n",
       "      <td>1</td>\n",
       "      <td>0</td>\n",
       "      <td>0</td>\n",
       "      <td>0</td>\n",
       "      <td>0</td>\n",
       "      <td>0</td>\n",
       "      <td>0</td>\n",
       "      <td>1</td>\n",
       "      <td>0</td>\n",
       "      <td>0</td>\n",
       "      <td>0</td>\n",
       "    </tr>\n",
       "    <tr>\n",
       "      <th>1534465538163</th>\n",
       "      <td>0.005</td>\n",
       "      <td>0.0</td>\n",
       "      <td>1</td>\n",
       "      <td>2</td>\n",
       "      <td>0</td>\n",
       "      <td>0</td>\n",
       "      <td>0</td>\n",
       "      <td>0</td>\n",
       "      <td>1</td>\n",
       "      <td>0</td>\n",
       "      <td>1</td>\n",
       "      <td>0</td>\n",
       "      <td>0</td>\n",
       "      <td>0</td>\n",
       "      <td>0</td>\n",
       "    </tr>\n",
       "    <tr>\n",
       "      <th>1534377263443</th>\n",
       "      <td>0.008</td>\n",
       "      <td>0.0</td>\n",
       "      <td>0</td>\n",
       "      <td>3</td>\n",
       "      <td>0</td>\n",
       "      <td>0</td>\n",
       "      <td>0</td>\n",
       "      <td>0</td>\n",
       "      <td>1</td>\n",
       "      <td>0</td>\n",
       "      <td>0</td>\n",
       "      <td>0</td>\n",
       "      <td>0</td>\n",
       "      <td>0</td>\n",
       "      <td>1</td>\n",
       "    </tr>\n",
       "    <tr>\n",
       "      <th>1534638223448</th>\n",
       "      <td>0.008</td>\n",
       "      <td>0.0</td>\n",
       "      <td>1</td>\n",
       "      <td>0</td>\n",
       "      <td>0</td>\n",
       "      <td>0</td>\n",
       "      <td>0</td>\n",
       "      <td>0</td>\n",
       "      <td>1</td>\n",
       "      <td>0</td>\n",
       "      <td>0</td>\n",
       "      <td>0</td>\n",
       "      <td>1</td>\n",
       "      <td>0</td>\n",
       "      <td>0</td>\n",
       "    </tr>\n",
       "  </tbody>\n",
       "</table>\n",
       "</div>"
      ],
      "text/plain": [
       "               Prc_outbound_payload_kb  Prc_Udp_packets  is_weekend  \\\n",
       "video_id                                                              \n",
       "1534358078742                    0.022              0.0           0   \n",
       "1534610096872                    0.005              0.0           1   \n",
       "1534465538163                    0.005              0.0           1   \n",
       "1534377263443                    0.008              0.0           0   \n",
       "1534638223448                    0.008              0.0           1   \n",
       "\n",
       "              resolution  day_part_after_noon  day_part_dawn  \\\n",
       "video_id                                                       \n",
       "1534358078742          3                    0              0   \n",
       "1534610096872          0                    1              0   \n",
       "1534465538163          2                    0              0   \n",
       "1534377263443          3                    0              0   \n",
       "1534638223448          0                    0              0   \n",
       "\n",
       "               day_part_evening  day_part_morning  day_part_night  \\\n",
       "video_id                                                            \n",
       "1534358078742                 1                 0               0   \n",
       "1534610096872                 0                 0               0   \n",
       "1534465538163                 0                 0               1   \n",
       "1534377263443                 0                 0               1   \n",
       "1534638223448                 0                 0               1   \n",
       "\n",
       "               day_part_noon  dow_Friday  dow_Saturday  dow_Sunday  \\\n",
       "video_id                                                             \n",
       "1534358078742              0           0             0           0   \n",
       "1534610096872              0           0             1           0   \n",
       "1534465538163              0           1             0           0   \n",
       "1534377263443              0           0             0           0   \n",
       "1534638223448              0           0             0           1   \n",
       "\n",
       "               dow_Thursday  dow_Wednesday  \n",
       "video_id                                    \n",
       "1534358078742             0              1  \n",
       "1534610096872             0              0  \n",
       "1534465538163             0              0  \n",
       "1534377263443             0              1  \n",
       "1534638223448             0              0  "
      ]
     },
     "execution_count": 15,
     "metadata": {},
     "output_type": "execute_result"
    }
   ],
   "source": [
    "model_df.head()"
   ]
  },
  {
   "cell_type": "markdown",
   "metadata": {},
   "source": [
    "## Short EDA"
   ]
  },
  {
   "cell_type": "code",
   "execution_count": 16,
   "metadata": {},
   "outputs": [
    {
     "data": {
      "image/png": "[encoded data removed]",
      "text/plain": [
       "<Figure size 432x288 with 1 Axes>"
      ]
     },
     "metadata": {
      "needs_background": "light"
     },
     "output_type": "display_data"
    }
   ],
   "source": [
    "plot_df = video_df['resolution'].value_counts(normalize=True).sort_index()\n",
    "plot_df.plot(kind='bar')\n",
    "\n",
    "plt.xlabel('Resolution')\n",
    "plt.ylabel('Frequency')\n",
    "plt.title('Video Resolution Histogram by Packets')\n",
    "\n",
    "plt.show()"
   ]
  },
  {
   "cell_type": "code",
   "execution_count": 17,
   "metadata": {},
   "outputs": [
    {
     "data": {
      "image/png": "[encoded data removed]",
      "text/plain": [
       "<Figure size 432x288 with 1 Axes>"
      ]
     },
     "metadata": {
      "needs_background": "light"
     },
     "output_type": "display_data"
    }
   ],
   "source": [
    "plot_df = model_df['resolution'].value_counts(normalize=True).sort_index()\n",
    "plot_df.plot(kind='bar')\n",
    "\n",
    "plt.xlabel('Resolution')\n",
    "plt.ylabel('Frequency')\n",
    "plt.title('Video Resolution Histogram by VideoIDs')\n",
    "\n",
    "plt.show()"
   ]
  },
  {
   "cell_type": "markdown",
   "metadata": {},
   "source": [
    "Although the video resolution by packets is imbalanced, the data labels for the model are balanced."
   ]
  },
  {
   "cell_type": "code",
   "execution_count": 18,
   "metadata": {},
   "outputs": [
    {
     "data": {
      "image/png": "[encoded data removed]",
      "text/plain": [
       "<Figure size 432x288 with 1 Axes>"
      ]
     },
     "metadata": {
      "needs_background": "light"
     },
     "output_type": "display_data"
    }
   ],
   "source": [
    "pd.pivot_table(model_df, index= 'resolution', columns= model_df['is_weekend'].astype(str), values= \"is_weekend\",aggfunc=len) \\\n",
    ".plot(kind= 'bar')\n",
    "\n",
    "plt.xlabel('Resolution')\n",
    "plt.ylabel('occurrences')\n",
    "plt.title('Video Resolution occurrences by weekend')\n",
    "\n",
    "plt.show()"
   ]
  },
  {
   "cell_type": "code",
   "execution_count": 19,
   "metadata": {},
   "outputs": [
    {
     "data": {
      "image/png": "[encoded data removed]",
      "text/plain": [
       "<Figure size 432x288 with 1 Axes>"
      ]
     },
     "metadata": {
      "needs_background": "light"
     },
     "output_type": "display_data"
    }
   ],
   "source": [
    "plot_df = model_df.groupby('resolution')['Prc_Udp_packets'].mean()\n",
    "plot_df.plot(kind='bar')\n",
    "\n",
    "plt.xlabel('Resolution')\n",
    "plt.ylabel('Frequency')\n",
    "plt.title('Udp_packets Avg.Frequency per resolution')\n",
    "\n",
    "plt.show()"
   ]
  },
  {
   "cell_type": "markdown",
   "metadata": {},
   "source": [
    "---"
   ]
  },
  {
   "cell_type": "markdown",
   "metadata": {},
   "source": [
    "# Modelling"
   ]
  },
  {
   "cell_type": "markdown",
   "metadata": {},
   "source": [
    "### Data Split"
   ]
  },
  {
   "cell_type": "code",
   "execution_count": 1,
   "metadata": {},
   "outputs": [],
   "source": [
    "from sklearn.model_selection import train_test_split"
   ]
  },
  {
   "cell_type": "code",
   "execution_count": 21,
   "metadata": {},
   "outputs": [],
   "source": [
    "X = model_df.drop('resolution', axis=1)\n",
    "y = model_df['resolution']"
   ]
  },
  {
   "cell_type": "code",
   "execution_count": 22,
   "metadata": {},
   "outputs": [],
   "source": [
    "X_train, X_test, y_train, y_test = train_test_split(X, y, test_size=0.2, random_state=1)"
   ]
  },
  {
   "cell_type": "markdown",
   "metadata": {},
   "source": [
    "## Fit Different basic ML Models"
   ]
  },
  {
   "cell_type": "code",
   "execution_count": 23,
   "metadata": {},
   "outputs": [],
   "source": [
    "from sklearn.linear_model import LogisticRegression\n",
    "from sklearn.tree import DecisionTreeClassifier\n",
    "from sklearn.ensemble import RandomForestClassifier"
   ]
  },
  {
   "cell_type": "code",
   "execution_count": 24,
   "metadata": {},
   "outputs": [],
   "source": [
    "clf1 = LogisticRegression()\n",
    "clf2 = DecisionTreeClassifier(criterion=\"entropy\", max_depth = 4)\n",
    "clf3 = RandomForestClassifier(random_state=1)\n",
    "\n",
    "classifiers = [('LR',clf1), ('DT',clf2), ('RF', clf3)]\n",
    "fi_classifiers_list = ['DT', 'RF']\n",
    "\n",
    "#classifiers = [('DT',clf2)]\n",
    "#fi_classifiers_list = ['DT', 'RF']\n"
   ]
  },
  {
   "cell_type": "code",
   "execution_count": 25,
   "metadata": {
    "scrolled": false
   },
   "outputs": [
    {
     "name": "stdout",
     "output_type": "stream",
     "text": [
      "\n",
      "===========================================================================================================\n",
      "LR classifier:\n",
      "         \tTrain Accuracy: 0.88\n",
      "         \tTest Accuracy: 0.93\n",
      "\n",
      "Train Classification Report:\n",
      "              precision    recall  f1-score   support\n",
      "\n",
      "           0       0.87      1.00      0.93       191\n",
      "           1       0.78      0.85      0.82       187\n",
      "           2       0.88      0.77      0.82       192\n",
      "           3       1.00      0.88      0.94       182\n",
      "\n",
      "   micro avg       0.88      0.88      0.88       752\n",
      "   macro avg       0.88      0.88      0.88       752\n",
      "weighted avg       0.88      0.88      0.88       752\n",
      "\n",
      "\n",
      "Train Confusion Matrix:\n",
      "     0    1    2    3\n",
      "0  191    0    0    0\n",
      "1   28  159    0    0\n",
      "2    0   44  148    0\n",
      "3    0    0   21  161\n",
      "\n",
      "Test Classification Report:\n",
      "              precision    recall  f1-score   support\n",
      "\n",
      "           0       0.92      1.00      0.96        44\n",
      "           1       0.90      0.92      0.91        48\n",
      "           2       0.90      0.88      0.89        43\n",
      "           3       1.00      0.92      0.96        53\n",
      "\n",
      "   micro avg       0.93      0.93      0.93       188\n",
      "   macro avg       0.93      0.93      0.93       188\n",
      "weighted avg       0.93      0.93      0.93       188\n",
      "\n",
      "\n",
      "Test Confusion Matrix:\n",
      "    0   1   2   3\n",
      "0  44   0   0   0\n",
      "1   4  44   0   0\n",
      "2   0   5  38   0\n",
      "3   0   0   4  49\n",
      "\n",
      "Feature Importance by PermutationImportance method:\n",
      "Explained as: feature importances\n",
      "\n",
      "Feature importances, computed as a decrease in score when feature\n",
      "values are permuted (i.e. become noise). This is also known as \n",
      "permutation importance.\n",
      "\n",
      "If feature importances are computed on the same data as used for training, \n",
      "they don't reflect importance of features for generalization. Use a held-out\n",
      "dataset if you want generalization feature importances.\n",
      "\n",
      "0.2048 ± 0.0115  dow_Friday\n",
      "0.1471 ± 0.0107  dow_Wednesday\n",
      "0.0737 ± 0.0206  dow_Thursday\n",
      "0.0593 ± 0.0179  is_weekend\n",
      "0.0431 ± 0.0106  day_part_dawn\n",
      "0.0229 ± 0.0076  dow_Saturday\n",
      "0.0170 ± 0.0011  dow_Sunday\n",
      "0.0069 ± 0.0074  day_part_noon\n",
      "          … 6 more …          \n",
      "\n",
      "=================================================================================================\n",
      "DT classifier:\n",
      "         \tTrain Accuracy: 0.92\n",
      "         \tTest Accuracy: 0.91\n",
      "\n",
      "Train Classification Report:\n",
      "              precision    recall  f1-score   support\n",
      "\n",
      "           0       0.94      0.99      0.96       191\n",
      "           1       0.87      0.93      0.90       187\n",
      "           2       0.89      0.88      0.88       192\n",
      "           3       1.00      0.88      0.94       182\n",
      "\n",
      "   micro avg       0.92      0.92      0.92       752\n",
      "   macro avg       0.92      0.92      0.92       752\n",
      "weighted avg       0.92      0.92      0.92       752\n",
      "\n",
      "\n",
      "Train Confusion Matrix:\n",
      "     0    1    2    3\n",
      "0  190    1    0    0\n",
      "1   13  174    0    0\n",
      "2    0   24  168    0\n",
      "3    0    0   21  161\n",
      "\n",
      "Test Classification Report:\n",
      "              precision    recall  f1-score   support\n",
      "\n",
      "           0       0.93      0.86      0.89        44\n",
      "           1       0.82      0.94      0.87        48\n",
      "           2       0.91      0.91      0.91        43\n",
      "           3       1.00      0.92      0.96        53\n",
      "\n",
      "   micro avg       0.91      0.91      0.91       188\n",
      "   macro avg       0.91      0.91      0.91       188\n",
      "weighted avg       0.92      0.91      0.91       188\n",
      "\n",
      "\n",
      "Test Confusion Matrix:\n",
      "    0   1   2   3\n",
      "0  38   6   0   0\n",
      "1   3  45   0   0\n",
      "2   0   4  39   0\n",
      "3   0   0   4  49"
     ]
    },
    {
     "name": "stderr",
     "output_type": "stream",
     "text": [
      "C:\\Users\\Ayelet\\Anaconda3\\lib\\site-packages\\sklearn\\linear_model\\logistic.py:433: FutureWarning: Default solver will be changed to 'lbfgs' in 0.22. Specify a solver to silence this warning.\n",
      "  FutureWarning)\n",
      "C:\\Users\\Ayelet\\Anaconda3\\lib\\site-packages\\sklearn\\linear_model\\logistic.py:460: FutureWarning: Default multi_class will be changed to 'auto' in 0.22. Specify the multi_class option to silence this warning.\n",
      "  \"this warning.\", FutureWarning)\n"
     ]
    },
    {
     "name": "stdout",
     "output_type": "stream",
     "text": [
      "\n",
      "\n",
      "Feature Importance by PermutationImportance method:\n",
      "Explained as: feature importances\n",
      "\n",
      "Feature importances, computed as a decrease in score when feature\n",
      "values are permuted (i.e. become noise). This is also known as \n",
      "permutation importance.\n",
      "\n",
      "If feature importances are computed on the same data as used for training, \n",
      "they don't reflect importance of features for generalization. Use a held-out\n",
      "dataset if you want generalization feature importances.\n",
      "\n",
      "0.4580 ± 0.0236  is_weekend\n",
      "0.1960 ± 0.0096  dow_Friday\n",
      "0.1848 ± 0.0185  Prc_outbound_payload_kb\n",
      "0.1755 ± 0.0115  dow_Wednesday\n",
      "0.0516 ± 0.0043  day_part_dawn\n",
      "0.0077 ± 0.0020  day_part_evening\n",
      "     0 ± 0.0000  dow_Thursday\n",
      "     0 ± 0.0000  day_part_morning\n",
      "               … 6 more …               \n",
      "\n",
      "=================================================================================================\n",
      "RF classifier:\n",
      "         \tTrain Accuracy: 0.95\n",
      "         \tTest Accuracy: 0.97\n",
      "\n",
      "Train Classification Report:\n",
      "              precision    recall  f1-score   support\n",
      "\n",
      "           0       0.98      0.95      0.97       191\n",
      "           1       0.91      0.97      0.94       187\n",
      "           2       0.96      0.91      0.93       192\n",
      "           3       0.95      0.98      0.96       182\n",
      "\n",
      "   micro avg       0.95      0.95      0.95       752\n",
      "   macro avg       0.95      0.95      0.95       752\n",
      "weighted avg       0.95      0.95      0.95       752\n",
      "\n",
      "\n",
      "Train Confusion Matrix:\n",
      "     0    1    2    3\n",
      "0  181   10    0    0\n",
      "1    3  181    3    0\n",
      "2    0    8  174   10\n",
      "3    0    0    4  178\n",
      "\n",
      "Test Classification Report:\n",
      "              precision    recall  f1-score   support\n",
      "\n",
      "           0       0.98      0.93      0.95        44\n",
      "           1       0.92      0.98      0.95        48\n",
      "           2       1.00      0.95      0.98        43\n",
      "           3       0.98      1.00      0.99        53\n",
      "\n",
      "   micro avg       0.97      0.97      0.97       188\n",
      "   macro avg       0.97      0.97      0.97       188\n",
      "weighted avg       0.97      0.97      0.97       188\n",
      "\n",
      "\n",
      "Test Confusion Matrix:\n",
      "    0   1   2   3\n",
      "0  41   3   0   0\n",
      "1   1  47   0   0\n",
      "2   0   1  41   1\n",
      "3   0   0   0  53\n",
      "\n",
      "Feature Importance by PermutationImportance method:\n"
     ]
    },
    {
     "name": "stderr",
     "output_type": "stream",
     "text": [
      "C:\\Users\\Ayelet\\Anaconda3\\lib\\site-packages\\sklearn\\ensemble\\forest.py:246: FutureWarning: The default value of n_estimators will change from 10 in version 0.20 to 100 in 0.22.\n",
      "  \"10 in version 0.20 to 100 in 0.22.\", FutureWarning)\n"
     ]
    },
    {
     "name": "stdout",
     "output_type": "stream",
     "text": [
      "Explained as: feature importances\n",
      "\n",
      "Feature importances, computed as a decrease in score when feature\n",
      "values are permuted (i.e. become noise). This is also known as \n",
      "permutation importance.\n",
      "\n",
      "If feature importances are computed on the same data as used for training, \n",
      "they don't reflect importance of features for generalization. Use a held-out\n",
      "dataset if you want generalization feature importances.\n",
      "\n",
      "0.3109 ± 0.0161  is_weekend\n",
      "0.1862 ± 0.0258  dow_Friday\n",
      "0.1564 ± 0.0191  dow_Thursday\n",
      "0.0907 ± 0.0101  day_part_dawn\n",
      "0.0777 ± 0.0257  Prc_outbound_payload_kb\n",
      "0.0324 ± 0.0064  day_part_night\n",
      "0.0234 ± 0.0060  dow_Wednesday\n",
      "0.0109 ± 0.0091  day_part_evening\n",
      "               … 6 more …               \n",
      "\n",
      "=================================================================================================\n"
     ]
    }
   ],
   "source": [
    "print (\"\\n===========================================================================================================\")\n",
    "results_train = y_train.to_frame()\n",
    "results_test = y_test.to_frame()\n",
    "\n",
    "#fi_df = {}\n",
    "fi_df = pd.DataFrame(X_train.columns, columns = ['feature'])\n",
    "confusion_matrixs_train = {}\n",
    "confusion_matrixs_test = {}\n",
    "\n",
    "for clf_name, clf in classifiers:\n",
    "    model = clf.fit(X_train, y_train)\n",
    "    y_pred_train = clf.predict(X_train)\n",
    "    y_pred_test = clf.predict(X_test)\n",
    "    \n",
    "    results_train[clf_name] = clf.predict(X_train)\n",
    "    results_test[clf_name] = clf.predict(X_test)\n",
    "    \n",
    "    print ('{:2} classifier:\\n \\\n",
    "        \\tTrain Accuracy: {:.2f}\\n \\\n",
    "        \\tTest Accuracy: {:.2f}'\\\n",
    "               .format(clf_name,\n",
    "               clf.score(X_train, y_train),\n",
    "               clf.score(X_test, y_test)))\n",
    "\n",
    "    # Compute train classification report\n",
    "    print (\"\\nTrain Classification Report:\")\n",
    "    print(classification_report(y_true=y_train,\n",
    "                            y_pred=y_pred_train))\n",
    "    \n",
    "    # Compute train confusion matrix\n",
    "    cnf_matrix_train = confusion_matrix(y_true=y_train, y_pred=results_train[clf_name])\n",
    "    confusion_matrixs_train[clf_name] = cnf_matrix_train\n",
    "    \n",
    "    print (\"\\nTrain Confusion Matrix:\")\n",
    "    print (pd.DataFrame(cnf_matrix_train,\n",
    "             index = clf.classes_,\n",
    "             columns = clf.classes_))\n",
    "    \n",
    "    # Compute test classification report    \n",
    "    print (\"\\nTest Classification Report:\")\n",
    "    print(classification_report(y_true=y_test,\n",
    "                            y_pred=y_pred_test))\n",
    "\n",
    "    # Compute test confusion matrix\n",
    "    cnf_matrix_test = confusion_matrix(y_true=y_test, y_pred=results_test[clf_name])\n",
    "    confusion_matrixs_test[clf_name] = cnf_matrix_test\n",
    "\n",
    "    print (\"\\nTest Confusion Matrix:\")\n",
    "    print (pd.DataFrame(cnf_matrix_test,\n",
    "             index = clf.classes_,\n",
    "             columns = clf.classes_))\n",
    "    \n",
    "    # Compute feature importance matrix\n",
    "    print (\"\\nFeature Importance by PermutationImportance method:\")\n",
    "    perm = PermutationImportance(clf).fit(X_train, y_train)\n",
    "    print ( eli5.format_as_text(eli5.explain_weights(perm, top=8, feature_names = X_train.columns.tolist())) )\n",
    "\n",
    "    if clf_name in fi_classifiers_list:\n",
    "        fi_df[clf_name+'_fi_score'] = clf.feature_importances_[:, ]\n",
    "        fi_df[clf_name+'_rel_fi_score'] = fi_df[clf_name+'_fi_score'] / fi_df[clf_name+'_fi_score'].max()\n",
    "    \n",
    "    \n",
    "    print (\"\\n=================================================================================================\")"
   ]
  },
  {
   "cell_type": "code",
   "execution_count": 26,
   "metadata": {},
   "outputs": [
    {
     "name": "stdout",
     "output_type": "stream",
     "text": [
      "              resolution LR DT RF\n",
      "video_id                         \n",
      "1534491241903          1  1  1  1\n",
      "1534551832329          1  0  1  1\n",
      "              resolution LR DT RF\n",
      "video_id                         \n",
      "1534362535782          3  3  3  3\n",
      "1534542918402          1  1  1  1\n"
     ]
    }
   ],
   "source": [
    "print ( results_train.head(2) )\n",
    "print ( results_test.head(2) )"
   ]
  },
  {
   "cell_type": "markdown",
   "metadata": {},
   "source": [
    "### Classifiers Confusion matrixs (over train ds) & Feature Importance "
   ]
  },
  {
   "cell_type": "code",
   "execution_count": 27,
   "metadata": {},
   "outputs": [],
   "source": [
    "def plot_confusion_matrix(cm, classes,\n",
    "                          normalize=False,\n",
    "                          title='Confusion matrix',\n",
    "                          cmap=plt.cm.Blues):\n",
    "    import itertools\n",
    "    \"\"\"\n",
    "    This function prints and plots the confusion matrix.\n",
    "    Normalization can be applied by setting `normalize=True`.\n",
    "    \"\"\"\n",
    "    if normalize:\n",
    "        cm = cm.astype('float') / cm.sum(axis=1)[:, np.newaxis]\n",
    "        print(\"Normalized confusion matrix\")\n",
    "    else:\n",
    "        print('Confusion matrix, without normalization')\n",
    "\n",
    "    #print(cm)\n",
    "\n",
    "    plt.imshow(cm, interpolation='nearest', cmap=cmap)\n",
    "    plt.title(title)\n",
    "    plt.colorbar()\n",
    "    tick_marks = np.arange(len(classes))\n",
    "    plt.xticks(tick_marks, classes, rotation=45)\n",
    "    plt.yticks(tick_marks, classes)\n",
    "\n",
    "    fmt = '.2f' if normalize else 'd'\n",
    "    thresh = cm.max() / 2.\n",
    "    for i, j in itertools.product(range(cm.shape[0]), range(cm.shape[1])):\n",
    "        plt.text(j, i, format(cm[i, j], fmt),\n",
    "                 horizontalalignment=\"center\",\n",
    "                 color=\"white\" if cm[i, j] > thresh else \"black\")\n",
    "\n",
    "    plt.tight_layout()\n",
    "    plt.ylabel('True label')\n",
    "    plt.xlabel('Predicted label')\n"
   ]
  },
  {
   "cell_type": "markdown",
   "metadata": {},
   "source": [
    "### Logistic Regression"
   ]
  },
  {
   "cell_type": "code",
   "execution_count": 28,
   "metadata": {
    "scrolled": true
   },
   "outputs": [
    {
     "name": "stdout",
     "output_type": "stream",
     "text": [
      "Logistic Regression Classifier: Train-Ds\n",
      "Confusion matrix, without normalization\n"
     ]
    },
    {
     "data": {
      "image/png": "[encoded data removed]",
      "text/plain": [
       "<Figure size 432x288 with 2 Axes>"
      ]
     },
     "metadata": {
      "needs_background": "light"
     },
     "output_type": "display_data"
    }
   ],
   "source": [
    "print ('Logistic Regression Classifier: Train-Ds')\n",
    "plt.figure()\n",
    "plot_confusion_matrix(confusion_matrixs_train['LR'], classes=clf.classes_,normalize= False,  title='Confusion matrix')"
   ]
  },
  {
   "cell_type": "markdown",
   "metadata": {},
   "source": [
    "### Decision Tree"
   ]
  },
  {
   "cell_type": "code",
   "execution_count": 29,
   "metadata": {},
   "outputs": [
    {
     "name": "stdout",
     "output_type": "stream",
     "text": [
      "Decision Tree Classifier Classifier: Train-Ds\n",
      "Confusion matrix, without normalization\n"
     ]
    },
    {
     "data": {
      "image/png": "[encoded data removed]",
      "text/plain": [
       "<Figure size 432x288 with 2 Axes>"
      ]
     },
     "metadata": {
      "needs_background": "light"
     },
     "output_type": "display_data"
    }
   ],
   "source": [
    "print ('Decision Tree Classifier Classifier: Train-Ds')\n",
    "plt.figure()\n",
    "plot_confusion_matrix(confusion_matrixs_train['DT'], classes=clf.classes_,normalize= False,  title='Confusion matrix')"
   ]
  },
  {
   "cell_type": "code",
   "execution_count": 30,
   "metadata": {},
   "outputs": [
    {
     "data": {
      "image/png": "[encoded data removed]",
      "text/plain": [
       "<Figure size 432x288 with 1 Axes>"
      ]
     },
     "metadata": {
      "needs_background": "light"
     },
     "output_type": "display_data"
    }
   ],
   "source": [
    "df_dt_fi = fi_df.sort_values('DT_rel_fi_score', ascending = False)\n",
    "df_dt_fi.sort_values('DT_rel_fi_score', ascending = True) \\\n",
    ".plot(kind='barh', x='feature', y='DT_fi_score', legend=False, color='steelblue')\n",
    "plt.title('Decision Tree feature importance', fontsize = 15)\n",
    "plt.xlabel('')\n",
    "plt.ylabel('')\n",
    "plt.xticks([], [])\n",
    "plt.yticks(fontsize=12)\n",
    "plt.show()"
   ]
  },
  {
   "cell_type": "markdown",
   "metadata": {},
   "source": [
    "### Random Forest"
   ]
  },
  {
   "cell_type": "code",
   "execution_count": 31,
   "metadata": {},
   "outputs": [
    {
     "name": "stdout",
     "output_type": "stream",
     "text": [
      "Random Forest Classifier: Train-Ds\n",
      "Confusion matrix, without normalization\n"
     ]
    },
    {
     "data": {
      "image/png": "[encoded data removed]",
      "text/plain": [
       "<Figure size 432x288 with 2 Axes>"
      ]
     },
     "metadata": {
      "needs_background": "light"
     },
     "output_type": "display_data"
    }
   ],
   "source": [
    "print ('Random Forest Classifier: Train-Ds')\n",
    "plt.figure()\n",
    "plot_confusion_matrix(confusion_matrixs_train['RF'], classes=clf.classes_,normalize= False,  title='Confusion matrix')"
   ]
  },
  {
   "cell_type": "code",
   "execution_count": 32,
   "metadata": {},
   "outputs": [
    {
     "data": {
      "image/png": "[encoded data removed]",
      "text/plain": [
       "<Figure size 432x288 with 1 Axes>"
      ]
     },
     "metadata": {
      "needs_background": "light"
     },
     "output_type": "display_data"
    }
   ],
   "source": [
    "df_rf_fi = fi_df.sort_values('RF_rel_fi_score', ascending = False)\n",
    "df_rf_fi.sort_values('RF_rel_fi_score', ascending = True) \\\n",
    ".plot(kind='barh', x='feature', y='RF_fi_score', legend=False, color='steelblue')\n",
    "plt.title('Random Forest feature importance', fontsize = 15)\n",
    "plt.xlabel('')\n",
    "plt.ylabel('')\n",
    "plt.xticks([], [])\n",
    "plt.yticks(fontsize=12)\n",
    "plt.show()"
   ]
  },
  {
   "cell_type": "code",
   "execution_count": null,
   "metadata": {},
   "outputs": [],
   "source": []
  },
  {
   "cell_type": "markdown",
   "metadata": {},
   "source": [
    "# The End"
   ]
  },
  {
   "cell_type": "code",
   "execution_count": null,
   "metadata": {},
   "outputs": [],
   "source": []
  },
  {
   "cell_type": "code",
   "execution_count": null,
   "metadata": {},
   "outputs": [],
   "source": []
  }
 ],
 "metadata": {
  "kernelspec": {
   "display_name": "Python 3",
   "language": "python",
   "name": "python3"
  },
  "language_info": {
   "codemirror_mode": {
    "name": "ipython",
    "version": 3
   },
   "file_extension": ".py",
   "mimetype": "text/x-python",
   "name": "python",
   "nbconvert_exporter": "python",
   "pygments_lexer": "ipython3",
   "version": "3.7.1"
  }
 },
 "nbformat": 4,
 "nbformat_minor": 2
}
